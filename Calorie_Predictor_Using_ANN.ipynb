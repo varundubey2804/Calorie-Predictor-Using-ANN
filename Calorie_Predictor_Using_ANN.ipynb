{
  "metadata": {
    "kernelspec": {
      "language": "python",
      "display_name": "Python 3",
      "name": "python3"
    },
    "language_info": {
      "name": "python",
      "version": "3.11.11",
      "mimetype": "text/x-python",
      "codemirror_mode": {
        "name": "ipython",
        "version": 3
      },
      "pygments_lexer": "ipython3",
      "nbconvert_exporter": "python",
      "file_extension": ".py"
    },
    "kaggle": {
      "accelerator": "none",
      "dataSources": [
        {
          "sourceId": 91716,
          "databundleVersionId": 11893428,
          "sourceType": "competition"
        }
      ],
      "dockerImageVersionId": 31040,
      "isInternetEnabled": false,
      "language": "python",
      "sourceType": "notebook",
      "isGpuEnabled": false
    },
    "colab": {
      "name": "Calorie Predictor Using ANN",
      "provenance": [],
      "include_colab_link": true
    }
  },
  "nbformat_minor": 0,
  "nbformat": 4,
  "cells": [
    {
      "cell_type": "markdown",
      "metadata": {
        "id": "view-in-github",
        "colab_type": "text"
      },
      "source": [
        "<a href=\"https://colab.research.google.com/github/varundubey2804/Calorie-Predictor-Using-ANN/blob/main/Calorie_Predictor_Using_ANN.ipynb\" target=\"_parent\"><img src=\"https://colab.research.google.com/assets/colab-badge.svg\" alt=\"Open In Colab\"/></a>"
      ]
    },
    {
      "source": [
        "# IMPORTANT: SOME KAGGLE DATA SOURCES ARE PRIVATE\n",
        "# RUN THIS CELL IN ORDER TO IMPORT YOUR KAGGLE DATA SOURCES.\n",
        "import kagglehub\n",
        "kagglehub.login()\n"
      ],
      "metadata": {
        "id": "vDHojEkoSIom"
      },
      "cell_type": "code",
      "outputs": [],
      "execution_count": null
    },
    {
      "source": [
        "# IMPORTANT: RUN THIS CELL IN ORDER TO IMPORT YOUR KAGGLE DATA SOURCES,\n",
        "# THEN FEEL FREE TO DELETE THIS CELL.\n",
        "# NOTE: THIS NOTEBOOK ENVIRONMENT DIFFERS FROM KAGGLE'S PYTHON\n",
        "# ENVIRONMENT SO THERE MAY BE MISSING LIBRARIES USED BY YOUR\n",
        "# NOTEBOOK.\n",
        "\n",
        "playground_series_s5e5_path = kagglehub.competition_download('playground-series-s5e5')\n",
        "\n",
        "print('Data source import complete.')\n"
      ],
      "metadata": {
        "id": "2_UemwAYSIop"
      },
      "cell_type": "code",
      "outputs": [],
      "execution_count": null
    },
    {
      "cell_type": "code",
      "source": [
        "# This Python 3 environment comes with many helpful analytics libraries installed\n",
        "# It is defined by the kaggle/python Docker image: https://github.com/kaggle/docker-python\n",
        "# For example, here's several helpful packages to load\n",
        "\n",
        "import numpy as np # linear algebra\n",
        "import pandas as pd # data processing, CSV file I/O (e.g. pd.read_csv)\n",
        "\n",
        "# Input data files are available in the read-only \"../input/\" directory\n",
        "# For example, running this (by clicking run or pressing Shift+Enter) will list all files under the input directory\n",
        "\n",
        "import os\n",
        "for dirname, _, filenames in os.walk('/kaggle/input'):\n",
        "    for filename in filenames:\n",
        "        print(os.path.join(dirname, filename))\n",
        "\n",
        "# You can write up to 20GB to the current directory (/kaggle/working/) that gets preserved as output when you create a version using \"Save & Run All\"\n",
        "# You can also write temporary files to /kaggle/temp/, but they won't be saved outside of the current session"
      ],
      "metadata": {
        "_uuid": "8f2839f25d086af736a60e9eeb907d3b93b6e0e5",
        "_cell_guid": "b1076dfc-b9ad-4769-8c92-a6c4dae69d19",
        "trusted": true,
        "execution": {
          "iopub.status.busy": "2025-05-17T12:29:13.897809Z",
          "iopub.execute_input": "2025-05-17T12:29:13.89816Z",
          "iopub.status.idle": "2025-05-17T12:29:13.90559Z",
          "shell.execute_reply.started": "2025-05-17T12:29:13.898136Z",
          "shell.execute_reply": "2025-05-17T12:29:13.904693Z"
        },
        "id": "YEceHkyLSIoq"
      },
      "outputs": [],
      "execution_count": null
    },
    {
      "cell_type": "code",
      "source": [
        "import pandas as pd"
      ],
      "metadata": {
        "trusted": true,
        "execution": {
          "iopub.status.busy": "2025-05-17T12:29:15.574687Z",
          "iopub.execute_input": "2025-05-17T12:29:15.574999Z",
          "iopub.status.idle": "2025-05-17T12:29:15.579714Z",
          "shell.execute_reply.started": "2025-05-17T12:29:15.574978Z",
          "shell.execute_reply": "2025-05-17T12:29:15.578824Z"
        },
        "id": "OUxrm9lMSIor"
      },
      "outputs": [],
      "execution_count": null
    },
    {
      "cell_type": "code",
      "source": [
        "df=pd.read_csv(\"/kaggle/input/playground-series-s5e5/train.csv\")"
      ],
      "metadata": {
        "trusted": true,
        "execution": {
          "iopub.status.busy": "2025-05-17T12:29:22.618965Z",
          "iopub.execute_input": "2025-05-17T12:29:22.619347Z",
          "iopub.status.idle": "2025-05-17T12:29:23.178886Z",
          "shell.execute_reply.started": "2025-05-17T12:29:22.619324Z",
          "shell.execute_reply": "2025-05-17T12:29:23.177917Z"
        },
        "id": "Vx60hiQDSIor"
      },
      "outputs": [],
      "execution_count": null
    },
    {
      "cell_type": "code",
      "source": [
        "df.head(10)"
      ],
      "metadata": {
        "trusted": true,
        "execution": {
          "iopub.status.busy": "2025-05-17T12:29:23.806513Z",
          "iopub.execute_input": "2025-05-17T12:29:23.80733Z",
          "iopub.status.idle": "2025-05-17T12:29:23.821745Z",
          "shell.execute_reply.started": "2025-05-17T12:29:23.807295Z",
          "shell.execute_reply": "2025-05-17T12:29:23.820828Z"
        },
        "id": "8R-ULxEESIos"
      },
      "outputs": [],
      "execution_count": null
    },
    {
      "cell_type": "code",
      "source": [
        "df.shape"
      ],
      "metadata": {
        "trusted": true,
        "execution": {
          "iopub.status.busy": "2025-05-17T12:29:24.558631Z",
          "iopub.execute_input": "2025-05-17T12:29:24.558935Z",
          "iopub.status.idle": "2025-05-17T12:29:24.564343Z",
          "shell.execute_reply.started": "2025-05-17T12:29:24.558914Z",
          "shell.execute_reply": "2025-05-17T12:29:24.563468Z"
        },
        "id": "ZAvzQuK0SIot"
      },
      "outputs": [],
      "execution_count": null
    },
    {
      "cell_type": "code",
      "source": [
        "df.info()"
      ],
      "metadata": {
        "trusted": true,
        "execution": {
          "iopub.status.busy": "2025-05-17T12:29:25.387314Z",
          "iopub.execute_input": "2025-05-17T12:29:25.387585Z",
          "iopub.status.idle": "2025-05-17T12:29:25.453489Z",
          "shell.execute_reply.started": "2025-05-17T12:29:25.387567Z",
          "shell.execute_reply": "2025-05-17T12:29:25.452677Z"
        },
        "id": "2S7RWEB9SIot"
      },
      "outputs": [],
      "execution_count": null
    },
    {
      "cell_type": "code",
      "source": [
        "df.isnull().sum()"
      ],
      "metadata": {
        "trusted": true,
        "execution": {
          "iopub.status.busy": "2025-05-17T12:29:26.159384Z",
          "iopub.execute_input": "2025-05-17T12:29:26.159691Z",
          "iopub.status.idle": "2025-05-17T12:29:26.221622Z",
          "shell.execute_reply.started": "2025-05-17T12:29:26.159668Z",
          "shell.execute_reply": "2025-05-17T12:29:26.220681Z"
        },
        "id": "Qt9EUtK9SIot"
      },
      "outputs": [],
      "execution_count": null
    },
    {
      "cell_type": "code",
      "source": [
        "df.duplicated().sum()"
      ],
      "metadata": {
        "trusted": true,
        "execution": {
          "iopub.status.busy": "2025-05-17T12:29:26.852101Z",
          "iopub.execute_input": "2025-05-17T12:29:26.852407Z",
          "iopub.status.idle": "2025-05-17T12:29:27.048869Z",
          "shell.execute_reply.started": "2025-05-17T12:29:26.852386Z",
          "shell.execute_reply": "2025-05-17T12:29:27.047899Z"
        },
        "id": "9xiX5JP8SIou"
      },
      "outputs": [],
      "execution_count": null
    },
    {
      "cell_type": "code",
      "source": [
        "df.describe()"
      ],
      "metadata": {
        "trusted": true,
        "execution": {
          "iopub.status.busy": "2025-05-17T12:29:27.328837Z",
          "iopub.execute_input": "2025-05-17T12:29:27.329184Z",
          "iopub.status.idle": "2025-05-17T12:29:27.590773Z",
          "shell.execute_reply.started": "2025-05-17T12:29:27.329161Z",
          "shell.execute_reply": "2025-05-17T12:29:27.590024Z"
        },
        "id": "CTXW018DSIov"
      },
      "outputs": [],
      "execution_count": null
    },
    {
      "cell_type": "code",
      "source": [
        "df.drop(columns=['id'],inplace=True)"
      ],
      "metadata": {
        "trusted": true,
        "execution": {
          "iopub.status.busy": "2025-05-17T12:29:27.762565Z",
          "iopub.execute_input": "2025-05-17T12:29:27.762957Z",
          "iopub.status.idle": "2025-05-17T12:29:27.782718Z",
          "shell.execute_reply.started": "2025-05-17T12:29:27.762931Z",
          "shell.execute_reply": "2025-05-17T12:29:27.781859Z"
        },
        "id": "RTb7zmCtSIov"
      },
      "outputs": [],
      "execution_count": null
    },
    {
      "cell_type": "code",
      "source": [
        "import matplotlib.pyplot as plt\n",
        "import seaborn as sns"
      ],
      "metadata": {
        "trusted": true,
        "execution": {
          "iopub.status.busy": "2025-05-17T12:29:28.200692Z",
          "iopub.execute_input": "2025-05-17T12:29:28.201555Z",
          "iopub.status.idle": "2025-05-17T12:29:28.206042Z",
          "shell.execute_reply.started": "2025-05-17T12:29:28.201526Z",
          "shell.execute_reply": "2025-05-17T12:29:28.204828Z"
        },
        "id": "e_9_38YsSIow"
      },
      "outputs": [],
      "execution_count": null
    },
    {
      "cell_type": "code",
      "source": [
        "df.drop(columns=['Sex'],inplace=True)"
      ],
      "metadata": {
        "trusted": true,
        "execution": {
          "iopub.status.busy": "2025-05-17T12:29:28.639386Z",
          "iopub.execute_input": "2025-05-17T12:29:28.639669Z",
          "iopub.status.idle": "2025-05-17T12:29:28.669512Z",
          "shell.execute_reply.started": "2025-05-17T12:29:28.639647Z",
          "shell.execute_reply": "2025-05-17T12:29:28.668462Z"
        },
        "id": "uirMM3BpSIow"
      },
      "outputs": [],
      "execution_count": null
    },
    {
      "cell_type": "code",
      "source": [
        "plt.figure(figsize=(12,6))\n",
        "sns.boxplot(data=df)\n",
        "plt.show"
      ],
      "metadata": {
        "trusted": true,
        "execution": {
          "iopub.status.busy": "2025-05-17T12:29:29.140541Z",
          "iopub.execute_input": "2025-05-17T12:29:29.140888Z",
          "iopub.status.idle": "2025-05-17T12:29:29.707486Z",
          "shell.execute_reply.started": "2025-05-17T12:29:29.140864Z",
          "shell.execute_reply": "2025-05-17T12:29:29.706472Z"
        },
        "id": "485BYK_KSIow"
      },
      "outputs": [],
      "execution_count": null
    },
    {
      "cell_type": "code",
      "source": [],
      "metadata": {
        "trusted": true,
        "id": "mX-T_k36SIox"
      },
      "outputs": [],
      "execution_count": null
    },
    {
      "cell_type": "code",
      "source": [
        "X = df.iloc[:, :-1].values\n",
        "y = df.iloc[:, -1].values"
      ],
      "metadata": {
        "trusted": true,
        "execution": {
          "iopub.status.busy": "2025-05-17T12:29:42.257716Z",
          "iopub.execute_input": "2025-05-17T12:29:42.258013Z",
          "iopub.status.idle": "2025-05-17T12:29:42.285349Z",
          "shell.execute_reply.started": "2025-05-17T12:29:42.257992Z",
          "shell.execute_reply": "2025-05-17T12:29:42.284335Z"
        },
        "id": "FdrPOZaTSIox"
      },
      "outputs": [],
      "execution_count": null
    },
    {
      "cell_type": "code",
      "source": [
        "from sklearn.model_selection import train_test_split\n"
      ],
      "metadata": {
        "trusted": true,
        "execution": {
          "iopub.status.busy": "2025-05-17T12:29:44.061428Z",
          "iopub.execute_input": "2025-05-17T12:29:44.061702Z",
          "iopub.status.idle": "2025-05-17T12:29:44.066125Z",
          "shell.execute_reply.started": "2025-05-17T12:29:44.061685Z",
          "shell.execute_reply": "2025-05-17T12:29:44.065307Z"
        },
        "id": "9cYVr3NlSIox"
      },
      "outputs": [],
      "execution_count": null
    },
    {
      "cell_type": "code",
      "source": [
        "X_train, X_test, y_train, y_test = train_test_split(X, y, test_size=0.2, random_state=42)\n"
      ],
      "metadata": {
        "trusted": true,
        "execution": {
          "iopub.status.busy": "2025-05-17T12:29:45.557055Z",
          "iopub.execute_input": "2025-05-17T12:29:45.55745Z",
          "iopub.status.idle": "2025-05-17T12:29:45.692721Z",
          "shell.execute_reply.started": "2025-05-17T12:29:45.557423Z",
          "shell.execute_reply": "2025-05-17T12:29:45.691846Z"
        },
        "id": "i6tbkcilSIoy"
      },
      "outputs": [],
      "execution_count": null
    },
    {
      "cell_type": "code",
      "source": [
        "from sklearn.preprocessing import StandardScaler\n",
        "scaler = StandardScaler()\n",
        "\n",
        "X_train = scaler.fit_transform(X_train)\n",
        "X_test = scaler.transform(X_test)"
      ],
      "metadata": {
        "trusted": true,
        "execution": {
          "iopub.status.busy": "2025-05-17T12:29:46.342873Z",
          "iopub.execute_input": "2025-05-17T12:29:46.343212Z",
          "iopub.status.idle": "2025-05-17T12:29:46.461426Z",
          "shell.execute_reply.started": "2025-05-17T12:29:46.343189Z",
          "shell.execute_reply": "2025-05-17T12:29:46.460579Z"
        },
        "id": "LSpBgQVvSIoy"
      },
      "outputs": [],
      "execution_count": null
    },
    {
      "cell_type": "code",
      "source": [
        "import tensorflow\n",
        "from tensorflow import  keras\n",
        "from tensorflow.keras import Sequential\n",
        "from tensorflow.keras.layers import Dense\n"
      ],
      "metadata": {
        "trusted": true,
        "execution": {
          "iopub.status.busy": "2025-05-17T12:29:47.099564Z",
          "iopub.execute_input": "2025-05-17T12:29:47.099861Z",
          "iopub.status.idle": "2025-05-17T12:29:47.104433Z",
          "shell.execute_reply.started": "2025-05-17T12:29:47.099838Z",
          "shell.execute_reply": "2025-05-17T12:29:47.103726Z"
        },
        "id": "vbE1IdFcSIoz"
      },
      "outputs": [],
      "execution_count": null
    },
    {
      "cell_type": "code",
      "source": [
        "model=Sequential()\n",
        "\n",
        "model.add(Dense(11,activation='relu',input_dim=6))\n",
        "model.add(Dense(11,activation='relu'))\n",
        "model.add(Dense(5,activation='relu'))\n",
        "model.add(Dense(1,activation='sigmoid'))"
      ],
      "metadata": {
        "trusted": true,
        "execution": {
          "iopub.status.busy": "2025-05-17T12:29:48.405Z",
          "iopub.execute_input": "2025-05-17T12:29:48.405329Z",
          "iopub.status.idle": "2025-05-17T12:29:48.449761Z",
          "shell.execute_reply.started": "2025-05-17T12:29:48.405307Z",
          "shell.execute_reply": "2025-05-17T12:29:48.448889Z"
        },
        "id": "ZLJBLqLwSIoz"
      },
      "outputs": [],
      "execution_count": null
    },
    {
      "cell_type": "markdown",
      "source": [],
      "metadata": {
        "execution": {
          "iopub.status.busy": "2025-05-17T09:05:34.302799Z",
          "iopub.execute_input": "2025-05-17T09:05:34.303301Z",
          "iopub.status.idle": "2025-05-17T09:05:34.32424Z",
          "shell.execute_reply.started": "2025-05-17T09:05:34.303183Z",
          "shell.execute_reply": "2025-05-17T09:05:34.323079Z"
        },
        "id": "QlN4-eKDSIoz"
      }
    },
    {
      "cell_type": "code",
      "source": [
        "model.summary()"
      ],
      "metadata": {
        "trusted": true,
        "execution": {
          "iopub.status.busy": "2025-05-17T12:29:51.907527Z",
          "iopub.execute_input": "2025-05-17T12:29:51.90782Z",
          "iopub.status.idle": "2025-05-17T12:29:51.923701Z",
          "shell.execute_reply.started": "2025-05-17T12:29:51.907796Z",
          "shell.execute_reply": "2025-05-17T12:29:51.922859Z"
        },
        "id": "9OYdRNlESIo1"
      },
      "outputs": [],
      "execution_count": null
    },
    {
      "cell_type": "code",
      "source": [
        "import tensorflow as tf\n",
        "from tensorflow.keras import backend as K\n",
        "\n",
        "def rmsle(y_test, y_pred):\n",
        "    y_pred = K.clip(y_pred, K.epsilon(), None)\n",
        "    y_test = K.clip(y_test, K.epsilon(), None)\n",
        "    return K.sqrt(K.mean(K.square(K.log(y_pred + 1) - K.log(y_test + 1))))\n"
      ],
      "metadata": {
        "trusted": true,
        "execution": {
          "iopub.status.busy": "2025-05-17T12:29:52.604508Z",
          "iopub.execute_input": "2025-05-17T12:29:52.604805Z",
          "iopub.status.idle": "2025-05-17T12:29:52.610037Z",
          "shell.execute_reply.started": "2025-05-17T12:29:52.604783Z",
          "shell.execute_reply": "2025-05-17T12:29:52.609051Z"
        },
        "id": "v4Vrg38aSIo1"
      },
      "outputs": [],
      "execution_count": null
    },
    {
      "cell_type": "code",
      "source": [
        "model.compile(optimizer='adam', loss=rmsle, metrics=[tf.keras.metrics.MeanAbsoluteError()])\n",
        "\n",
        "history = model.fit(\n",
        "    X_train,\n",
        "    y_train,\n",
        "    epochs=10,\n",
        "    batch_size=32,\n",
        "    validation_split=0.2,\n",
        "    verbose=1\n",
        ")\n"
      ],
      "metadata": {
        "trusted": true,
        "execution": {
          "iopub.status.busy": "2025-05-17T12:29:53.380515Z",
          "iopub.execute_input": "2025-05-17T12:29:53.381174Z",
          "iopub.status.idle": "2025-05-17T12:35:01.491126Z",
          "shell.execute_reply.started": "2025-05-17T12:29:53.381146Z",
          "shell.execute_reply": "2025-05-17T12:35:01.489987Z"
        },
        "id": "gNFF3tXZSIo2"
      },
      "outputs": [],
      "execution_count": null
    },
    {
      "cell_type": "code",
      "source": [
        "test_preds = model.predict(X_test)\n",
        "\n",
        "\n",
        "test_preds = test_preds.flatten()\n",
        "\n",
        "print(test_preds[:10])\n"
      ],
      "metadata": {
        "trusted": true,
        "execution": {
          "iopub.status.busy": "2025-05-17T12:35:01.493317Z",
          "iopub.execute_input": "2025-05-17T12:35:01.493615Z",
          "iopub.status.idle": "2025-05-17T12:35:07.82448Z",
          "shell.execute_reply.started": "2025-05-17T12:35:01.493594Z",
          "shell.execute_reply": "2025-05-17T12:35:07.823414Z"
        },
        "id": "mxk_vB3hSIo2"
      },
      "outputs": [],
      "execution_count": null
    },
    {
      "cell_type": "code",
      "source": [
        "# Load sample submission\n",
        "sample_submission = pd.read_csv(\"/kaggle/input/playground-series-s5e5/sample_submission.csv\")\n",
        "\n",
        "# Make predictions as before\n",
        "test_df = pd.read_csv(\"/kaggle/input/playground-series-s5e5/test.csv\")\n",
        "test_features = test_df.drop(columns=['id', 'Sex'])\n",
        "test_features_scaled = scaler.transform(test_features)\n",
        "test_preds = model.predict(test_features_scaled).flatten()\n",
        "test_preds_rounded = (test_preds * 2).round() / 2\n",
        "\n",
        "# Fill the Calories column in sample submission with predictions\n",
        "sample_submission['Calories'] = test_preds_rounded\n",
        "\n",
        "# Save submission\n",
        "sample_submission.to_csv(\"submission.csv\", index=False)\n",
        "print(\"File saved successfully!\")\n"
      ],
      "metadata": {
        "trusted": true,
        "execution": {
          "iopub.status.busy": "2025-05-17T12:35:07.825551Z",
          "iopub.execute_input": "2025-05-17T12:35:07.825866Z",
          "iopub.status.idle": "2025-05-17T12:35:18.905179Z",
          "shell.execute_reply.started": "2025-05-17T12:35:07.825838Z",
          "shell.execute_reply": "2025-05-17T12:35:18.904217Z"
        },
        "id": "5wsEjNfKSIo3"
      },
      "outputs": [],
      "execution_count": null
    },
    {
      "cell_type": "code",
      "source": [
        "submission.to_csv(\"submission.csv\", index=False)\n",
        "print(\"File saved successfully!\")\n"
      ],
      "metadata": {
        "trusted": true,
        "execution": {
          "iopub.status.busy": "2025-05-17T12:28:06.661727Z",
          "iopub.execute_input": "2025-05-17T12:28:06.662135Z",
          "iopub.status.idle": "2025-05-17T12:28:06.944188Z",
          "shell.execute_reply.started": "2025-05-17T12:28:06.662107Z",
          "shell.execute_reply": "2025-05-17T12:28:06.943376Z"
        },
        "id": "Kobl-umiSIo3"
      },
      "outputs": [],
      "execution_count": null
    },
    {
      "cell_type": "code",
      "source": [],
      "metadata": {
        "trusted": true,
        "id": "dqAZcwgASIo3"
      },
      "outputs": [],
      "execution_count": null
    }
  ]
}